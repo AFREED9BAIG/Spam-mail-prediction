{
  "nbformat": 4,
  "nbformat_minor": 0,
  "metadata": {
    "colab": {
      "private_outputs": true,
      "provenance": [],
      "collapsed_sections": []
    },
    "kernelspec": {
      "name": "python3",
      "display_name": "Python 3"
    },
    "language_info": {
      "name": "python"
    }
  },
  "cells": [
    {
      "cell_type": "markdown",
      "source": [
        "## **Import libraries**"
      ],
      "metadata": {
        "id": "Gfa9ry12yhlK"
      }
    },
    {
      "cell_type": "code",
      "source": [
        "import numpy as np\n",
        "import pandas as pd\n",
        "from sklearn.model_selection import train_test_split\n",
        "from sklearn.feature_extraction.text import TfidfVectorizer\n",
        "from sklearn.svm import LinearSVC\n",
        "from sklearn.metrics import accuracy_score"
      ],
      "metadata": {
        "id": "VrwSiktryo6d"
      },
      "execution_count": null,
      "outputs": []
    },
    {
      "cell_type": "markdown",
      "source": [
        "## **Data preprocessing**"
      ],
      "metadata": {
        "id": "m6pMx84Z1iEw"
      }
    },
    {
      "cell_type": "code",
      "source": [
        "#load the data set to pandas data frame\n",
        "raw_mail_data = pd.read_csv('spamham.csv')\n",
        "#replace the null values with null string\n",
        "mail_data = raw_mail_data.where((pd.notnull(raw_mail_data)), '')"
      ],
      "metadata": {
        "id": "HAhxHrq3GQqp"
      },
      "execution_count": null,
      "outputs": []
    },
    {
      "cell_type": "code",
      "source": [
        "mail_data.shape"
      ],
      "metadata": {
        "id": "EDXnm3G0OaZs"
      },
      "execution_count": null,
      "outputs": []
    },
    {
      "cell_type": "code",
      "source": [
        "mail_data.head #sample data"
      ],
      "metadata": {
        "id": "QN2_fpz0Oi8F"
      },
      "execution_count": null,
      "outputs": []
    },
    {
      "cell_type": "code",
      "source": [
        "#label spam mail as 0 ; Non spam mail (ham mail) as 1.\n",
        "mail_data.loc[mail_data['category'] == 'spam', 'category'] = 0\n",
        "mail_data.loc[mail_data['category'] == 'ham', 'category'] = 1"
      ],
      "metadata": {
        "id": "Dl9FPYnwOraU"
      },
      "execution_count": null,
      "outputs": []
    },
    {
      "cell_type": "code",
      "source": [
        "#seperate the data as text and label. X --> text; Y --> label\n",
        "x = mail_data['message']\n",
        "y = mail_data['category']\n"
      ],
      "metadata": {
        "id": "Udxbj4xBP-hH"
      },
      "execution_count": null,
      "outputs": []
    },
    {
      "cell_type": "code",
      "source": [
        "print(X)\n",
        "print('.........')\n",
        "print(Y)"
      ],
      "metadata": {
        "id": "YIOx3GPGRAJW"
      },
      "execution_count": null,
      "outputs": []
    },
    {
      "cell_type": "markdown",
      "source": [
        "**# Train Test Split**"
      ],
      "metadata": {
        "id": "4ZaqT2SlRftb"
      }
    },
    {
      "cell_type": "code",
      "source": [
        "#split the data into Train data and Test data\n",
        "X_train,X_test,Y_train,Y_test = train_test_split(x, y, train_size=0.8, test_size=0.2, random_state=3)\n"
      ],
      "metadata": {
        "id": "xxeN-neKReuR"
      },
      "execution_count": null,
      "outputs": []
    },
    {
      "cell_type": "code",
      "source": [
        "#transfrom the text data feature vectors that can be used as input to the svm model using Tfidfvectorizer\n",
        "#convert the text to lower case letters\n",
        "feature_extraction = Tfidfvectorizer(min_df=1, stop_words='english', lower_case = 'true')\n",
        "X_train_features = feature_extraction.fit_transform(X_train)\n",
        "X_test_features = feature_extraction.transform(X_test)\n",
        "\n",
        "#convert Y_train, Y_test values as integers\n",
        "Y_train = Y_train.astype('int')\n",
        "Y_test = Y_test.astype('int')\n"
      ],
      "metadata": {
        "id": "wz5nfQg2SWGV"
      },
      "execution_count": null,
      "outputs": []
    },
    {
      "cell_type": "markdown",
      "source": [
        "# Training the model --> **support vector machine**"
      ],
      "metadata": {
        "id": "dRB7OjScUHbZ"
      }
    },
    {
      "cell_type": "code",
      "source": [
        "model = linearSVC()\n",
        "model.fit(X_train_features, Y_train)"
      ],
      "metadata": {
        "id": "TH-4YzArUGmy"
      },
      "execution_count": null,
      "outputs": []
    },
    {
      "cell_type": "code",
      "source": [
        "#prediction on training data\n",
        "prediction_on_training_data = model.predict(X_train_features)\n",
        "accuracy_on_training_data = accuracy_score(Y_train, prediction_on_training_data)"
      ],
      "metadata": {
        "id": "qlOuO_aCVJQo"
      },
      "execution_count": null,
      "outputs": []
    },
    {
      "cell_type": "code",
      "source": [
        "print('Accuracy on training data: ', accuracy_on_training_data)\n"
      ],
      "metadata": {
        "id": "AKhnLM3TWOqj"
      },
      "execution_count": null,
      "outputs": []
    },
    {
      "cell_type": "code",
      "source": [
        "prediction_on_trest_data = model.predict(X_test_features)\n",
        "accuracy_on_test_data = accuracy_score(Y_test, prediction_on_test_data)"
      ],
      "metadata": {
        "id": "xeKlfsdaWrj2"
      },
      "execution_count": null,
      "outputs": []
    },
    {
      "cell_type": "code",
      "source": [
        "print('Accuracy on test data: ', accuracy_on_test_data)"
      ],
      "metadata": {
        "id": "sabg0nngXSmE"
      },
      "execution_count": null,
      "outputs": []
    },
    {
      "cell_type": "markdown",
      "source": [
        "# Prediction on new mail"
      ],
      "metadata": {
        "id": "d1slam7AXqMc"
      }
    },
    {
      "cell_type": "code",
      "source": [
        "input_mail = ['U dun say so early hor... U c already then say...,,,']\n",
        "#convert text to feature vector\n",
        "input_mail_feaure = feature_extraction.transform(input__mail)\n",
        "\n",
        "#making prediction\n",
        "prediction = model.predict(input_mail_features)\n",
        "print(prediction)\n",
        "\n",
        "if (prediction[0] == 1):\n",
        "  print('spam mail')\n",
        "else:\n",
        "  prnt('ham mail')"
      ],
      "metadata": {
        "id": "9YmRjoyNXb1P"
      },
      "execution_count": null,
      "outputs": []
    }
  ]
}